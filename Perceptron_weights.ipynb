{
  "nbformat": 4,
  "nbformat_minor": 0,
  "metadata": {
    "kernelspec": {
      "display_name": "Python 3",
      "language": "python",
      "name": "python3"
    },
    "language_info": {
      "codemirror_mode": {
        "name": "ipython",
        "version": 3
      },
      "file_extension": ".py",
      "mimetype": "text/x-python",
      "name": "python",
      "nbconvert_exporter": "python",
      "pygments_lexer": "ipython3",
      "version": "3.6.12"
    },
    "colab": {
      "name": "lesson3 Assisted 2.ipynb",
      "provenance": [],
      "include_colab_link": true
    }
  },
  "cells": [
    {
      "cell_type": "markdown",
      "metadata": {
        "id": "view-in-github",
        "colab_type": "text"
      },
      "source": [
        "<a href=\"https://colab.research.google.com/github/rohitrs0908/script/blob/master/Perceptron_weights.ipynb\" target=\"_parent\"><img src=\"https://colab.research.google.com/assets/colab-badge.svg\" alt=\"Open In Colab\"/></a>"
      ]
    },
    {
      "cell_type": "code",
      "metadata": {
        "id": "HZPGsBFZBsSm",
        "outputId": "5f33b948-093c-406b-c79e-59d7f0b938be",
        "colab": {
          "base_uri": "https://localhost:8080/"
        }
      },
      "source": [
        "import numpy\n",
        "from numpy import exp, array, random, dot\n",
        "\n",
        "class NeuralNetwork():\n",
        "    def __init__(self):\n",
        "        # Seed the random number generator, so it generates the same numbers\n",
        "        # every time the program runs.\n",
        "        random.seed(2)\n",
        "\n",
        "        # We model a single neuron, with 3 input connections and 1 output connection.\n",
        "        # We assign random weights to a 3 x 1 matrix, with values in the range -1 to 1\n",
        "        # and mean 0.\n",
        "        self.synaptic_weights = 2 * random.random((3, 1)) - 1\n",
        "\n",
        "    # The tanh function, which describes an S shaped curve.\n",
        "    # We pass the weighted sum of the inputs through this function to normalise them between -1 and 1.\n",
        "    def __tanh(self, x):\n",
        "        return numpy.tanh(x)\n",
        "\n",
        "    # The derivative of the tanh function.\n",
        "    # This is the gradient of the tanh curve.\n",
        "    # It indicates how confident we are about the existing weight.\n",
        "    def __tanh_derivative(self, x):\n",
        "        t=(numpy.exp(x)-numpy.exp(-x))/(numpy.exp(x)+numpy.exp(-x))\n",
        "        return 1-t**2\n",
        "\n",
        "    # We train the neural network through a process of trial and error.\n",
        "    # Adjusting the synaptic weights each time.\n",
        "    def train(self, training_set_inputs, training_set_outputs, number_of_training_iterations):\n",
        "        for iteration in range(number_of_training_iterations):\n",
        "            # Pass the training set through our neural network (a single neuron).\n",
        "            output = self.think(training_set_inputs)\n",
        "\n",
        "            # Calculate the error (The difference between the desired output\n",
        "            # and the predicted output).\n",
        "            error = training_set_outputs - output\n",
        "\n",
        "            # Multiply the error by the input and again by the gradient of the Sigmoid curve.\n",
        "            # This means less confident weights are adjusted more.\n",
        "            # This means inputs, which are zero, do not cause changes to the weights.\n",
        "            adjustment = dot(training_set_inputs.T, error * self.__tanh_derivative(output))\n",
        "\n",
        "            # Adjust the weights.\n",
        "            self.synaptic_weights += adjustment\n",
        "\n",
        "    # The neural network thinks.\n",
        "    def think(self, inputs):\n",
        "        # Pass inputs through our neural network (our single neuron).\n",
        "        return self.__tanh(dot(inputs, self.synaptic_weights))\n",
        "\n",
        "\n",
        "if __name__ == \"__main__\":\n",
        "\n",
        "    #Intialise a single neuron neural network.\n",
        "    neural_network = NeuralNetwork()\n",
        "\n",
        "    print (\"Random starting synaptic weights: \")\n",
        "    print (neural_network.synaptic_weights)\n",
        "\n",
        "    # The training set. We have 4 examples, each consisting of 3 input values\n",
        "    # and 1 output value.\n",
        "    training_set_inputs = array([[0, 0, 1], [1, 1, 1], [1, 0, 1], [0, 1, 1]])\n",
        "    training_set_outputs = array([[0, 1, 1, 0]]).T\n",
        "\n",
        "    # Train the neural network using a training set.\n",
        "    # Do it 10,000 times and make small adjustments each time.\n",
        "    neural_network.train(training_set_inputs, training_set_outputs, 10000)\n",
        "\n",
        "    print (\"New synaptic weights after training: \")\n",
        "    print (neural_network.synaptic_weights)\n",
        "\n",
        "    # Test the neural network with a new situation.\n",
        "    print (\"Considering new situation [1, 0, 0] -> ?: \")\n",
        "    print (neural_network.think(array([1, 0, 0])))\n"
      ],
      "execution_count": 1,
      "outputs": [
        {
          "output_type": "stream",
          "text": [
            "Random starting synaptic weights: \n",
            "[[-0.1280102 ]\n",
            " [-0.94814754]\n",
            " [ 0.09932496]]\n",
            "New synaptic weights after training: \n",
            "[[ 5.39440666]\n",
            " [-0.1947217 ]\n",
            " [-0.34310257]]\n",
            "Considering new situation [1, 0, 0] -> ?: \n",
            "[0.99995874]\n"
          ],
          "name": "stdout"
        }
      ]
    },
    {
      "cell_type": "code",
      "metadata": {
        "id": "yNRH0f9mBsS0"
      },
      "source": [
        ""
      ],
      "execution_count": null,
      "outputs": []
    }
  ]
}