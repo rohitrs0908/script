{
 "cells": [
  {
   "cell_type": "code",
   "execution_count": 1,
   "metadata": {},
   "outputs": [],
   "source": [
    "from bs4 import BeautifulSoup"
   ]
  },
  {
   "cell_type": "code",
   "execution_count": 3,
   "metadata": {},
   "outputs": [],
   "source": [
    "html_file = 'C:\\\\rohit\\\\simple\\\\class0504\\\\index.html'\n",
    "with open(html_file, \"r\") as frontend:\n",
    "    soup = BeautifulSoup(frontend, \"lxml\")"
   ]
  },
  {
   "cell_type": "code",
   "execution_count": 4,
   "metadata": {},
   "outputs": [
    {
     "data": {
      "text/plain": [
       "<_io.TextIOWrapper name='C:\\\\rohit\\\\simple\\\\class0504\\\\index.html' mode='r' encoding='cp1252'>"
      ]
     },
     "execution_count": 4,
     "metadata": {},
     "output_type": "execute_result"
    }
   ],
   "source": [
    "frontend"
   ]
  },
  {
   "cell_type": "code",
   "execution_count": 5,
   "metadata": {},
   "outputs": [
    {
     "data": {
      "text/plain": [
       "_io.TextIOWrapper"
      ]
     },
     "execution_count": 5,
     "metadata": {},
     "output_type": "execute_result"
    }
   ],
   "source": [
    "type(frontend)"
   ]
  },
  {
   "cell_type": "code",
   "execution_count": 6,
   "metadata": {},
   "outputs": [
    {
     "data": {
      "text/plain": [
       "['html', <html>\n",
       " <head>\n",
       " <meta charset=\"utf-8\"/>\n",
       " <title>SMS Spam Detector Tool</title>\n",
       " <!-- Mobile Specific Metas -->\n",
       " <meta content=\"width=device-width, initial-scale=1, maximum-scale=1\" name=\"viewport\"/>\n",
       " <!-- Jquery -->\n",
       " <link href=\"https://jqueryvalidation.org/files/demo/site-demos.css\" rel=\"stylesheet\"/>\n",
       " <!-- Main Style Css -->\n",
       " <link href=\"css/style.css\" rel=\"stylesheet\"/>\n",
       " </head>\n",
       " <body class=\"form-v4\">\n",
       " <div class=\"page-content\">\n",
       " <div class=\"form-v4-content\">\n",
       " <div class=\"form-left\">\n",
       " <h2>ABOUT</h2>\n",
       " <p class=\"text-1\">This is a SMS Spam detector which uses the Machine Learning inside to classify the entered text as spam or not spam.</p>\n",
       " <p class=\"text-2\"><span>Made by:</span> This project is made by Utkarsh with the purpose of learning the Natural Language Processing and to deploy it. </p>\n",
       " <div class=\"form-left-last\">\n",
       " <a href=\"http://utkarshkumar.com\" target=\"_blank\"> <input class=\"account\" name=\"account\" type=\"submit\" value=\"VISIT WEBSITE\"/></a>\n",
       " </div>\n",
       " </div>\n",
       " <form action=\"result.html\" class=\"form-detail\" id=\"myform\" method=\"POST\">\n",
       " <h2>ENTER TEXT HERE</h2>\n",
       " <div class=\"form-row\">\n",
       " <label for=\"your_text\">TEXT FOR ANALYSIS</label>\n",
       " <textarea autofocus=\"\" class=\"input-text\" id=\"your_email\" name=\"text\" required=\"\" rows=\"4\"></textarea>\n",
       " </div>\n",
       " <label for=\"password\" style=\"color:black;\">NOT A ROBOT..CONFIRM BELOW</label><br/>\n",
       " <div class=\"form-group\">\n",
       " <div class=\"form-row form-row-1\">\n",
       " <label for=\"password\">SOME TEXT</label>\n",
       " <input class=\"input-text\" id=\"password\" name=\"password\" required=\"\" type=\"password\"/>\n",
       " </div>\n",
       " <div class=\"form-row form-row-1\">\n",
       " <label for=\"comfirm-password\">ENTER SAME TEXT</label>\n",
       " <input class=\"input-text\" id=\"comfirm_password\" name=\"comfirm_password\" required=\"\" type=\"password\"/>\n",
       " </div>\n",
       " </div>\n",
       " <div class=\"form-row-last\">\n",
       " <input class=\"register\" id=\"btn\" name=\"register\" type=\"submit\" value=\"ANALYZE\"/>\n",
       " </div>\n",
       " </form>\n",
       " </div>\n",
       " </div>\n",
       " <script src=\"https://code.jquery.com/jquery-1.11.1.min.js\"></script>\n",
       " <script src=\"https://cdn.jsdelivr.net/jquery.validation/1.16.0/jquery.validate.min.js\"></script>\n",
       " <script src=\"https://cdn.jsdelivr.net/jquery.validation/1.16.0/additional-methods.min.js\"></script>\n",
       " <script>\n",
       " \t\t// just for the demos, avoids form submit\n",
       " \t\tjQuery.validator.setDefaults({\n",
       " \t\t  \tdebug: true,\n",
       " \t\t  \tsuccess:  function(label){\n",
       "         \t\tlabel.attr('id', 'valid');\n",
       "    \t\t \t},\n",
       " \t\t});\n",
       " \t\t$( \"#myform\" ).validate({\n",
       " \t\t  \trules: {\n",
       " \t\t\t    password: \"required\",\n",
       " \t\t    \tcomfirm_password: {\n",
       " \t\t      \t\tequalTo: \"#password\"\n",
       " \t\t    \t}\n",
       " \t\t  \t},\n",
       " \t\t  \tmessages: {\n",
       " \t\t  \t\tpassword: {\n",
       " \t  \t\t\t\trequired: \"Please enter a text\"\n",
       " \t\t  \t\t},\n",
       " \t\t  \t\tcomfirm_password: {\n",
       " \t\t  \t\t\trequired: \"Please enter same text\",\n",
       " \t\t      \t\tequalTo: \"Text not matched\"\n",
       " \t\t    \t}\n",
       " \t\t  \t}\n",
       " \t\t});\n",
       " \t</script>\n",
       " <script>\n",
       " \t$('#btn').click(function(){\n",
       "     $(this).html('ANALYZING ...');\n",
       "     $(this).attr('disabled', true);\n",
       " });\n",
       " \t</script>\n",
       " </body>\n",
       " </html>]"
      ]
     },
     "execution_count": 6,
     "metadata": {},
     "output_type": "execute_result"
    }
   ],
   "source": [
    "soup.contents"
   ]
  },
  {
   "cell_type": "code",
   "execution_count": 7,
   "metadata": {},
   "outputs": [],
   "source": [
    "tag_li = soup.findAll(\"input\")"
   ]
  },
  {
   "cell_type": "code",
   "execution_count": 8,
   "metadata": {},
   "outputs": [
    {
     "data": {
      "text/plain": [
       "bs4.element.ResultSet"
      ]
     },
     "execution_count": 8,
     "metadata": {},
     "output_type": "execute_result"
    }
   ],
   "source": [
    "type(tag_li)"
   ]
  },
  {
   "cell_type": "code",
   "execution_count": 9,
   "metadata": {},
   "outputs": [
    {
     "name": "stdout",
     "output_type": "stream",
     "text": [
      "[<input class=\"account\" name=\"account\" type=\"submit\" value=\"VISIT WEBSITE\"/>, <input class=\"input-text\" id=\"password\" name=\"password\" required=\"\" type=\"password\"/>, <input class=\"input-text\" id=\"comfirm_password\" name=\"comfirm_password\" required=\"\" type=\"password\"/>, <input class=\"register\" id=\"btn\" name=\"register\" type=\"submit\" value=\"ANALYZE\"/>]\n"
     ]
    }
   ],
   "source": [
    "print(tag_li)"
   ]
  },
  {
   "cell_type": "code",
   "execution_count": 10,
   "metadata": {},
   "outputs": [],
   "source": [
    "find_pass = soup.find(id = 'password')"
   ]
  },
  {
   "cell_type": "code",
   "execution_count": 11,
   "metadata": {},
   "outputs": [
    {
     "name": "stdout",
     "output_type": "stream",
     "text": [
      "<input class=\"input-text\" id=\"password\" name=\"password\" required=\"\" type=\"password\"/>\n"
     ]
    }
   ],
   "source": [
    "print(find_pass)"
   ]
  },
  {
   "cell_type": "code",
   "execution_count": 12,
   "metadata": {},
   "outputs": [],
   "source": [
    "search_sting = soup.findAll(text = [\"Spam\"] )"
   ]
  },
  {
   "cell_type": "code",
   "execution_count": 13,
   "metadata": {},
   "outputs": [
    {
     "name": "stdout",
     "output_type": "stream",
     "text": [
      "[]\n"
     ]
    }
   ],
   "source": [
    "print(search_sting)"
   ]
  },
  {
   "cell_type": "code",
   "execution_count": 14,
   "metadata": {},
   "outputs": [],
   "source": [
    "class_css = soup.find(attrs = {\"class\":\"input-text\"})"
   ]
  },
  {
   "cell_type": "code",
   "execution_count": 15,
   "metadata": {},
   "outputs": [
    {
     "name": "stdout",
     "output_type": "stream",
     "text": [
      "<textarea autofocus=\"\" class=\"input-text\" id=\"your_email\" name=\"text\" required=\"\" rows=\"4\"></textarea>\n"
     ]
    }
   ],
   "source": [
    "print(class_css)"
   ]
  },
  {
   "cell_type": "code",
   "execution_count": 16,
   "metadata": {},
   "outputs": [
    {
     "name": "stdout",
     "output_type": "stream",
     "text": [
      "html\n",
      "head\n",
      "meta\n",
      "title\n",
      "meta\n",
      "link\n",
      "link\n",
      "body\n",
      "div\n",
      "div\n",
      "div\n",
      "h2\n",
      "p\n",
      "p\n",
      "span\n",
      "div\n",
      "a\n",
      "input\n",
      "form\n",
      "h2\n",
      "div\n",
      "label\n",
      "textarea\n",
      "label\n",
      "br\n",
      "div\n",
      "div\n",
      "label\n",
      "input\n",
      "div\n",
      "label\n",
      "input\n",
      "div\n",
      "input\n",
      "script\n",
      "script\n",
      "script\n",
      "script\n",
      "script\n"
     ]
    }
   ],
   "source": [
    "for tag in soup.findAll(True):\n",
    "    print(tag.name)"
   ]
  },
  {
   "cell_type": "code",
   "execution_count": 17,
   "metadata": {},
   "outputs": [],
   "source": [
    "find_class = soup.findAll(class_ = \"input-text\")"
   ]
  },
  {
   "cell_type": "code",
   "execution_count": 18,
   "metadata": {},
   "outputs": [
    {
     "name": "stdout",
     "output_type": "stream",
     "text": [
      "[<textarea autofocus=\"\" class=\"input-text\" id=\"your_email\" name=\"text\" required=\"\" rows=\"4\"></textarea>, <input class=\"input-text\" id=\"password\" name=\"password\" required=\"\" type=\"password\"/>, <input class=\"input-text\" id=\"comfirm_password\" name=\"comfirm_password\" required=\"\" type=\"password\"/>]\n"
     ]
    }
   ],
   "source": [
    "print(find_class)"
   ]
  },
  {
   "cell_type": "code",
   "execution_count": 19,
   "metadata": {},
   "outputs": [
    {
     "name": "stdout",
     "output_type": "stream",
     "text": [
      "<textarea autofocus=\"\" class=\"input-text\" id=\"your_email\" name=\"text\" required=\"\" rows=\"4\"></textarea>\n"
     ]
    }
   ],
   "source": [
    "print(find_class[0])"
   ]
  },
  {
   "cell_type": "code",
   "execution_count": 20,
   "metadata": {},
   "outputs": [
    {
     "name": "stdout",
     "output_type": "stream",
     "text": [
      "<input class=\"input-text\" id=\"password\" name=\"password\" required=\"\" type=\"password\"/>\n"
     ]
    }
   ],
   "source": [
    "print(find_class[1])"
   ]
  },
  {
   "cell_type": "code",
   "execution_count": 21,
   "metadata": {},
   "outputs": [],
   "source": [
    "org = soup.find(id = \"password\")"
   ]
  },
  {
   "cell_type": "code",
   "execution_count": 22,
   "metadata": {},
   "outputs": [
    {
     "name": "stdout",
     "output_type": "stream",
     "text": [
      "<input class=\"input-text\" id=\"password\" name=\"password\" required=\"\" type=\"password\"/>\n"
     ]
    }
   ],
   "source": [
    "print(org)"
   ]
  },
  {
   "cell_type": "code",
   "execution_count": 23,
   "metadata": {},
   "outputs": [],
   "source": [
    "next_sib = org.findNextSiblings()"
   ]
  },
  {
   "cell_type": "code",
   "execution_count": 24,
   "metadata": {},
   "outputs": [
    {
     "name": "stdout",
     "output_type": "stream",
     "text": [
      "[]\n"
     ]
    }
   ],
   "source": [
    "print(next_sib)"
   ]
  },
  {
   "cell_type": "code",
   "execution_count": 25,
   "metadata": {},
   "outputs": [],
   "source": [
    "parent = org.findParents()"
   ]
  },
  {
   "cell_type": "code",
   "execution_count": 26,
   "metadata": {},
   "outputs": [
    {
     "name": "stdout",
     "output_type": "stream",
     "text": [
      "[<div class=\"form-row form-row-1\">\n",
      "<label for=\"password\">SOME TEXT</label>\n",
      "<input class=\"input-text\" id=\"password\" name=\"password\" required=\"\" type=\"password\"/>\n",
      "</div>, <div class=\"form-group\">\n",
      "<div class=\"form-row form-row-1\">\n",
      "<label for=\"password\">SOME TEXT</label>\n",
      "<input class=\"input-text\" id=\"password\" name=\"password\" required=\"\" type=\"password\"/>\n",
      "</div>\n",
      "<div class=\"form-row form-row-1\">\n",
      "<label for=\"comfirm-password\">ENTER SAME TEXT</label>\n",
      "<input class=\"input-text\" id=\"comfirm_password\" name=\"comfirm_password\" required=\"\" type=\"password\"/>\n",
      "</div>\n",
      "</div>, <form action=\"result.html\" class=\"form-detail\" id=\"myform\" method=\"POST\">\n",
      "<h2>ENTER TEXT HERE</h2>\n",
      "<div class=\"form-row\">\n",
      "<label for=\"your_text\">TEXT FOR ANALYSIS</label>\n",
      "<textarea autofocus=\"\" class=\"input-text\" id=\"your_email\" name=\"text\" required=\"\" rows=\"4\"></textarea>\n",
      "</div>\n",
      "<label for=\"password\" style=\"color:black;\">NOT A ROBOT..CONFIRM BELOW</label><br/>\n",
      "<div class=\"form-group\">\n",
      "<div class=\"form-row form-row-1\">\n",
      "<label for=\"password\">SOME TEXT</label>\n",
      "<input class=\"input-text\" id=\"password\" name=\"password\" required=\"\" type=\"password\"/>\n",
      "</div>\n",
      "<div class=\"form-row form-row-1\">\n",
      "<label for=\"comfirm-password\">ENTER SAME TEXT</label>\n",
      "<input class=\"input-text\" id=\"comfirm_password\" name=\"comfirm_password\" required=\"\" type=\"password\"/>\n",
      "</div>\n",
      "</div>\n",
      "<div class=\"form-row-last\">\n",
      "<input class=\"register\" id=\"btn\" name=\"register\" type=\"submit\" value=\"ANALYZE\"/>\n",
      "</div>\n",
      "</form>, <div class=\"form-v4-content\">\n",
      "<div class=\"form-left\">\n",
      "<h2>ABOUT</h2>\n",
      "<p class=\"text-1\">This is a SMS Spam detector which uses the Machine Learning inside to classify the entered text as spam or not spam.</p>\n",
      "<p class=\"text-2\"><span>Made by:</span> This project is made by Utkarsh with the purpose of learning the Natural Language Processing and to deploy it. </p>\n",
      "<div class=\"form-left-last\">\n",
      "<a href=\"http://utkarshkumar.com\" target=\"_blank\"> <input class=\"account\" name=\"account\" type=\"submit\" value=\"VISIT WEBSITE\"/></a>\n",
      "</div>\n",
      "</div>\n",
      "<form action=\"result.html\" class=\"form-detail\" id=\"myform\" method=\"POST\">\n",
      "<h2>ENTER TEXT HERE</h2>\n",
      "<div class=\"form-row\">\n",
      "<label for=\"your_text\">TEXT FOR ANALYSIS</label>\n",
      "<textarea autofocus=\"\" class=\"input-text\" id=\"your_email\" name=\"text\" required=\"\" rows=\"4\"></textarea>\n",
      "</div>\n",
      "<label for=\"password\" style=\"color:black;\">NOT A ROBOT..CONFIRM BELOW</label><br/>\n",
      "<div class=\"form-group\">\n",
      "<div class=\"form-row form-row-1\">\n",
      "<label for=\"password\">SOME TEXT</label>\n",
      "<input class=\"input-text\" id=\"password\" name=\"password\" required=\"\" type=\"password\"/>\n",
      "</div>\n",
      "<div class=\"form-row form-row-1\">\n",
      "<label for=\"comfirm-password\">ENTER SAME TEXT</label>\n",
      "<input class=\"input-text\" id=\"comfirm_password\" name=\"comfirm_password\" required=\"\" type=\"password\"/>\n",
      "</div>\n",
      "</div>\n",
      "<div class=\"form-row-last\">\n",
      "<input class=\"register\" id=\"btn\" name=\"register\" type=\"submit\" value=\"ANALYZE\"/>\n",
      "</div>\n",
      "</form>\n",
      "</div>, <div class=\"page-content\">\n",
      "<div class=\"form-v4-content\">\n",
      "<div class=\"form-left\">\n",
      "<h2>ABOUT</h2>\n",
      "<p class=\"text-1\">This is a SMS Spam detector which uses the Machine Learning inside to classify the entered text as spam or not spam.</p>\n",
      "<p class=\"text-2\"><span>Made by:</span> This project is made by Utkarsh with the purpose of learning the Natural Language Processing and to deploy it. </p>\n",
      "<div class=\"form-left-last\">\n",
      "<a href=\"http://utkarshkumar.com\" target=\"_blank\"> <input class=\"account\" name=\"account\" type=\"submit\" value=\"VISIT WEBSITE\"/></a>\n",
      "</div>\n",
      "</div>\n",
      "<form action=\"result.html\" class=\"form-detail\" id=\"myform\" method=\"POST\">\n",
      "<h2>ENTER TEXT HERE</h2>\n",
      "<div class=\"form-row\">\n",
      "<label for=\"your_text\">TEXT FOR ANALYSIS</label>\n",
      "<textarea autofocus=\"\" class=\"input-text\" id=\"your_email\" name=\"text\" required=\"\" rows=\"4\"></textarea>\n",
      "</div>\n",
      "<label for=\"password\" style=\"color:black;\">NOT A ROBOT..CONFIRM BELOW</label><br/>\n",
      "<div class=\"form-group\">\n",
      "<div class=\"form-row form-row-1\">\n",
      "<label for=\"password\">SOME TEXT</label>\n",
      "<input class=\"input-text\" id=\"password\" name=\"password\" required=\"\" type=\"password\"/>\n",
      "</div>\n",
      "<div class=\"form-row form-row-1\">\n",
      "<label for=\"comfirm-password\">ENTER SAME TEXT</label>\n",
      "<input class=\"input-text\" id=\"comfirm_password\" name=\"comfirm_password\" required=\"\" type=\"password\"/>\n",
      "</div>\n",
      "</div>\n",
      "<div class=\"form-row-last\">\n",
      "<input class=\"register\" id=\"btn\" name=\"register\" type=\"submit\" value=\"ANALYZE\"/>\n",
      "</div>\n",
      "</form>\n",
      "</div>\n",
      "</div>, <body class=\"form-v4\">\n",
      "<div class=\"page-content\">\n",
      "<div class=\"form-v4-content\">\n",
      "<div class=\"form-left\">\n",
      "<h2>ABOUT</h2>\n",
      "<p class=\"text-1\">This is a SMS Spam detector which uses the Machine Learning inside to classify the entered text as spam or not spam.</p>\n",
      "<p class=\"text-2\"><span>Made by:</span> This project is made by Utkarsh with the purpose of learning the Natural Language Processing and to deploy it. </p>\n",
      "<div class=\"form-left-last\">\n",
      "<a href=\"http://utkarshkumar.com\" target=\"_blank\"> <input class=\"account\" name=\"account\" type=\"submit\" value=\"VISIT WEBSITE\"/></a>\n",
      "</div>\n",
      "</div>\n",
      "<form action=\"result.html\" class=\"form-detail\" id=\"myform\" method=\"POST\">\n",
      "<h2>ENTER TEXT HERE</h2>\n",
      "<div class=\"form-row\">\n",
      "<label for=\"your_text\">TEXT FOR ANALYSIS</label>\n",
      "<textarea autofocus=\"\" class=\"input-text\" id=\"your_email\" name=\"text\" required=\"\" rows=\"4\"></textarea>\n",
      "</div>\n",
      "<label for=\"password\" style=\"color:black;\">NOT A ROBOT..CONFIRM BELOW</label><br/>\n",
      "<div class=\"form-group\">\n",
      "<div class=\"form-row form-row-1\">\n",
      "<label for=\"password\">SOME TEXT</label>\n",
      "<input class=\"input-text\" id=\"password\" name=\"password\" required=\"\" type=\"password\"/>\n",
      "</div>\n",
      "<div class=\"form-row form-row-1\">\n",
      "<label for=\"comfirm-password\">ENTER SAME TEXT</label>\n",
      "<input class=\"input-text\" id=\"comfirm_password\" name=\"comfirm_password\" required=\"\" type=\"password\"/>\n",
      "</div>\n",
      "</div>\n",
      "<div class=\"form-row-last\">\n",
      "<input class=\"register\" id=\"btn\" name=\"register\" type=\"submit\" value=\"ANALYZE\"/>\n",
      "</div>\n",
      "</form>\n",
      "</div>\n",
      "</div>\n",
      "<script src=\"https://code.jquery.com/jquery-1.11.1.min.js\"></script>\n",
      "<script src=\"https://cdn.jsdelivr.net/jquery.validation/1.16.0/jquery.validate.min.js\"></script>\n",
      "<script src=\"https://cdn.jsdelivr.net/jquery.validation/1.16.0/additional-methods.min.js\"></script>\n",
      "<script>\n",
      "\t\t// just for the demos, avoids form submit\n",
      "\t\tjQuery.validator.setDefaults({\n",
      "\t\t  \tdebug: true,\n",
      "\t\t  \tsuccess:  function(label){\n",
      "        \t\tlabel.attr('id', 'valid');\n",
      "   \t\t \t},\n",
      "\t\t});\n",
      "\t\t$( \"#myform\" ).validate({\n",
      "\t\t  \trules: {\n",
      "\t\t\t    password: \"required\",\n",
      "\t\t    \tcomfirm_password: {\n",
      "\t\t      \t\tequalTo: \"#password\"\n",
      "\t\t    \t}\n",
      "\t\t  \t},\n",
      "\t\t  \tmessages: {\n",
      "\t\t  \t\tpassword: {\n",
      "\t  \t\t\t\trequired: \"Please enter a text\"\n",
      "\t\t  \t\t},\n",
      "\t\t  \t\tcomfirm_password: {\n",
      "\t\t  \t\t\trequired: \"Please enter same text\",\n",
      "\t\t      \t\tequalTo: \"Text not matched\"\n",
      "\t\t    \t}\n",
      "\t\t  \t}\n",
      "\t\t});\n",
      "\t</script>\n",
      "<script>\n",
      "\t$('#btn').click(function(){\n",
      "    $(this).html('ANALYZING ...');\n",
      "    $(this).attr('disabled', true);\n",
      "});\n",
      "\t</script>\n",
      "</body>, <html>\n",
      "<head>\n",
      "<meta charset=\"utf-8\"/>\n",
      "<title>SMS Spam Detector Tool</title>\n",
      "<!-- Mobile Specific Metas -->\n",
      "<meta content=\"width=device-width, initial-scale=1, maximum-scale=1\" name=\"viewport\"/>\n",
      "<!-- Jquery -->\n",
      "<link href=\"https://jqueryvalidation.org/files/demo/site-demos.css\" rel=\"stylesheet\"/>\n",
      "<!-- Main Style Css -->\n",
      "<link href=\"css/style.css\" rel=\"stylesheet\"/>\n",
      "</head>\n",
      "<body class=\"form-v4\">\n",
      "<div class=\"page-content\">\n",
      "<div class=\"form-v4-content\">\n",
      "<div class=\"form-left\">\n",
      "<h2>ABOUT</h2>\n",
      "<p class=\"text-1\">This is a SMS Spam detector which uses the Machine Learning inside to classify the entered text as spam or not spam.</p>\n",
      "<p class=\"text-2\"><span>Made by:</span> This project is made by Utkarsh with the purpose of learning the Natural Language Processing and to deploy it. </p>\n",
      "<div class=\"form-left-last\">\n",
      "<a href=\"http://utkarshkumar.com\" target=\"_blank\"> <input class=\"account\" name=\"account\" type=\"submit\" value=\"VISIT WEBSITE\"/></a>\n",
      "</div>\n",
      "</div>\n",
      "<form action=\"result.html\" class=\"form-detail\" id=\"myform\" method=\"POST\">\n",
      "<h2>ENTER TEXT HERE</h2>\n",
      "<div class=\"form-row\">\n",
      "<label for=\"your_text\">TEXT FOR ANALYSIS</label>\n",
      "<textarea autofocus=\"\" class=\"input-text\" id=\"your_email\" name=\"text\" required=\"\" rows=\"4\"></textarea>\n",
      "</div>\n",
      "<label for=\"password\" style=\"color:black;\">NOT A ROBOT..CONFIRM BELOW</label><br/>\n",
      "<div class=\"form-group\">\n",
      "<div class=\"form-row form-row-1\">\n",
      "<label for=\"password\">SOME TEXT</label>\n",
      "<input class=\"input-text\" id=\"password\" name=\"password\" required=\"\" type=\"password\"/>\n",
      "</div>\n",
      "<div class=\"form-row form-row-1\">\n",
      "<label for=\"comfirm-password\">ENTER SAME TEXT</label>\n",
      "<input class=\"input-text\" id=\"comfirm_password\" name=\"comfirm_password\" required=\"\" type=\"password\"/>\n",
      "</div>\n",
      "</div>\n",
      "<div class=\"form-row-last\">\n",
      "<input class=\"register\" id=\"btn\" name=\"register\" type=\"submit\" value=\"ANALYZE\"/>\n",
      "</div>\n",
      "</form>\n",
      "</div>\n",
      "</div>\n",
      "<script src=\"https://code.jquery.com/jquery-1.11.1.min.js\"></script>\n",
      "<script src=\"https://cdn.jsdelivr.net/jquery.validation/1.16.0/jquery.validate.min.js\"></script>\n",
      "<script src=\"https://cdn.jsdelivr.net/jquery.validation/1.16.0/additional-methods.min.js\"></script>\n",
      "<script>\n",
      "\t\t// just for the demos, avoids form submit\n",
      "\t\tjQuery.validator.setDefaults({\n",
      "\t\t  \tdebug: true,\n",
      "\t\t  \tsuccess:  function(label){\n",
      "        \t\tlabel.attr('id', 'valid');\n",
      "   \t\t \t},\n",
      "\t\t});\n",
      "\t\t$( \"#myform\" ).validate({\n",
      "\t\t  \trules: {\n",
      "\t\t\t    password: \"required\",\n",
      "\t\t    \tcomfirm_password: {\n",
      "\t\t      \t\tequalTo: \"#password\"\n",
      "\t\t    \t}\n",
      "\t\t  \t},\n",
      "\t\t  \tmessages: {\n",
      "\t\t  \t\tpassword: {\n",
      "\t  \t\t\t\trequired: \"Please enter a text\"\n",
      "\t\t  \t\t},\n",
      "\t\t  \t\tcomfirm_password: {\n",
      "\t\t  \t\t\trequired: \"Please enter same text\",\n",
      "\t\t      \t\tequalTo: \"Text not matched\"\n",
      "\t\t    \t}\n",
      "\t\t  \t}\n",
      "\t\t});\n",
      "\t</script>\n",
      "<script>\n",
      "\t$('#btn').click(function(){\n",
      "    $(this).html('ANALYZING ...');\n",
      "    $(this).attr('disabled', true);\n",
      "});\n",
      "\t</script>\n",
      "</body>\n",
      "</html>, <!DOCTYPE html>\n",
      "<html>\n",
      "<head>\n",
      "<meta charset=\"utf-8\"/>\n",
      "<title>SMS Spam Detector Tool</title>\n",
      "<!-- Mobile Specific Metas -->\n",
      "<meta content=\"width=device-width, initial-scale=1, maximum-scale=1\" name=\"viewport\"/>\n",
      "<!-- Jquery -->\n",
      "<link href=\"https://jqueryvalidation.org/files/demo/site-demos.css\" rel=\"stylesheet\"/>\n",
      "<!-- Main Style Css -->\n",
      "<link href=\"css/style.css\" rel=\"stylesheet\"/>\n",
      "</head>\n",
      "<body class=\"form-v4\">\n",
      "<div class=\"page-content\">\n",
      "<div class=\"form-v4-content\">\n",
      "<div class=\"form-left\">\n",
      "<h2>ABOUT</h2>\n",
      "<p class=\"text-1\">This is a SMS Spam detector which uses the Machine Learning inside to classify the entered text as spam or not spam.</p>\n",
      "<p class=\"text-2\"><span>Made by:</span> This project is made by Utkarsh with the purpose of learning the Natural Language Processing and to deploy it. </p>\n",
      "<div class=\"form-left-last\">\n",
      "<a href=\"http://utkarshkumar.com\" target=\"_blank\"> <input class=\"account\" name=\"account\" type=\"submit\" value=\"VISIT WEBSITE\"/></a>\n",
      "</div>\n",
      "</div>\n",
      "<form action=\"result.html\" class=\"form-detail\" id=\"myform\" method=\"POST\">\n",
      "<h2>ENTER TEXT HERE</h2>\n",
      "<div class=\"form-row\">\n",
      "<label for=\"your_text\">TEXT FOR ANALYSIS</label>\n",
      "<textarea autofocus=\"\" class=\"input-text\" id=\"your_email\" name=\"text\" required=\"\" rows=\"4\"></textarea>\n",
      "</div>\n",
      "<label for=\"password\" style=\"color:black;\">NOT A ROBOT..CONFIRM BELOW</label><br/>\n",
      "<div class=\"form-group\">\n",
      "<div class=\"form-row form-row-1\">\n",
      "<label for=\"password\">SOME TEXT</label>\n",
      "<input class=\"input-text\" id=\"password\" name=\"password\" required=\"\" type=\"password\"/>\n",
      "</div>\n",
      "<div class=\"form-row form-row-1\">\n",
      "<label for=\"comfirm-password\">ENTER SAME TEXT</label>\n",
      "<input class=\"input-text\" id=\"comfirm_password\" name=\"comfirm_password\" required=\"\" type=\"password\"/>\n",
      "</div>\n",
      "</div>\n",
      "<div class=\"form-row-last\">\n",
      "<input class=\"register\" id=\"btn\" name=\"register\" type=\"submit\" value=\"ANALYZE\"/>\n",
      "</div>\n",
      "</form>\n",
      "</div>\n",
      "</div>\n",
      "<script src=\"https://code.jquery.com/jquery-1.11.1.min.js\"></script>\n",
      "<script src=\"https://cdn.jsdelivr.net/jquery.validation/1.16.0/jquery.validate.min.js\"></script>\n",
      "<script src=\"https://cdn.jsdelivr.net/jquery.validation/1.16.0/additional-methods.min.js\"></script>\n",
      "<script>\n",
      "\t\t// just for the demos, avoids form submit\n",
      "\t\tjQuery.validator.setDefaults({\n",
      "\t\t  \tdebug: true,\n",
      "\t\t  \tsuccess:  function(label){\n",
      "        \t\tlabel.attr('id', 'valid');\n",
      "   \t\t \t},\n",
      "\t\t});\n",
      "\t\t$( \"#myform\" ).validate({\n",
      "\t\t  \trules: {\n",
      "\t\t\t    password: \"required\",\n",
      "\t\t    \tcomfirm_password: {\n",
      "\t\t      \t\tequalTo: \"#password\"\n",
      "\t\t    \t}\n",
      "\t\t  \t},\n",
      "\t\t  \tmessages: {\n",
      "\t\t  \t\tpassword: {\n",
      "\t  \t\t\t\trequired: \"Please enter a text\"\n",
      "\t\t  \t\t},\n",
      "\t\t  \t\tcomfirm_password: {\n",
      "\t\t  \t\t\trequired: \"Please enter same text\",\n",
      "\t\t      \t\tequalTo: \"Text not matched\"\n",
      "\t\t    \t}\n",
      "\t\t  \t}\n",
      "\t\t});\n",
      "\t</script>\n",
      "<script>\n",
      "\t$('#btn').click(function(){\n",
      "    $(this).html('ANALYZING ...');\n",
      "    $(this).attr('disabled', true);\n",
      "});\n",
      "\t</script>\n",
      "</body>\n",
      "</html>]\n"
     ]
    }
   ],
   "source": [
    "print(parent)"
   ]
  },
  {
   "cell_type": "code",
   "execution_count": 27,
   "metadata": {},
   "outputs": [],
   "source": [
    "prev_sib = org.findPreviousSiblings()"
   ]
  },
  {
   "cell_type": "code",
   "execution_count": 28,
   "metadata": {},
   "outputs": [
    {
     "name": "stdout",
     "output_type": "stream",
     "text": [
      "[<label for=\"password\">SOME TEXT</label>]\n"
     ]
    }
   ],
   "source": [
    "print(prev_sib)"
   ]
  },
  {
   "cell_type": "code",
   "execution_count": 29,
   "metadata": {},
   "outputs": [],
   "source": [
    "all_next = org.findAllNext()"
   ]
  },
  {
   "cell_type": "code",
   "execution_count": 30,
   "metadata": {},
   "outputs": [
    {
     "name": "stdout",
     "output_type": "stream",
     "text": [
      "[<div class=\"form-row form-row-1\">\n",
      "<label for=\"comfirm-password\">ENTER SAME TEXT</label>\n",
      "<input class=\"input-text\" id=\"comfirm_password\" name=\"comfirm_password\" required=\"\" type=\"password\"/>\n",
      "</div>, <label for=\"comfirm-password\">ENTER SAME TEXT</label>, <input class=\"input-text\" id=\"comfirm_password\" name=\"comfirm_password\" required=\"\" type=\"password\"/>, <div class=\"form-row-last\">\n",
      "<input class=\"register\" id=\"btn\" name=\"register\" type=\"submit\" value=\"ANALYZE\"/>\n",
      "</div>, <input class=\"register\" id=\"btn\" name=\"register\" type=\"submit\" value=\"ANALYZE\"/>, <script src=\"https://code.jquery.com/jquery-1.11.1.min.js\"></script>, <script src=\"https://cdn.jsdelivr.net/jquery.validation/1.16.0/jquery.validate.min.js\"></script>, <script src=\"https://cdn.jsdelivr.net/jquery.validation/1.16.0/additional-methods.min.js\"></script>, <script>\n",
      "\t\t// just for the demos, avoids form submit\n",
      "\t\tjQuery.validator.setDefaults({\n",
      "\t\t  \tdebug: true,\n",
      "\t\t  \tsuccess:  function(label){\n",
      "        \t\tlabel.attr('id', 'valid');\n",
      "   \t\t \t},\n",
      "\t\t});\n",
      "\t\t$( \"#myform\" ).validate({\n",
      "\t\t  \trules: {\n",
      "\t\t\t    password: \"required\",\n",
      "\t\t    \tcomfirm_password: {\n",
      "\t\t      \t\tequalTo: \"#password\"\n",
      "\t\t    \t}\n",
      "\t\t  \t},\n",
      "\t\t  \tmessages: {\n",
      "\t\t  \t\tpassword: {\n",
      "\t  \t\t\t\trequired: \"Please enter a text\"\n",
      "\t\t  \t\t},\n",
      "\t\t  \t\tcomfirm_password: {\n",
      "\t\t  \t\t\trequired: \"Please enter same text\",\n",
      "\t\t      \t\tequalTo: \"Text not matched\"\n",
      "\t\t    \t}\n",
      "\t\t  \t}\n",
      "\t\t});\n",
      "\t</script>, <script>\n",
      "\t$('#btn').click(function(){\n",
      "    $(this).html('ANALYZING ...');\n",
      "    $(this).attr('disabled', true);\n",
      "});\n",
      "\t</script>]\n"
     ]
    }
   ],
   "source": [
    "print(all_next)"
   ]
  },
  {
   "cell_type": "code",
   "execution_count": 31,
   "metadata": {},
   "outputs": [],
   "source": [
    "import re\n",
    "email_ex = \"\"\"<br/>\n",
    "<p> my email id is </p>\n",
    "kanth.mentor@gmail.com\"\"\"\n",
    "soup_em = BeautifulSoup(email_ex, 'lxml')"
   ]
  },
  {
   "cell_type": "code",
   "execution_count": 32,
   "metadata": {},
   "outputs": [
    {
     "name": "stdout",
     "output_type": "stream",
     "text": [
      "<html><body><br/>\n",
      "<p> my email id is </p>\n",
      "kanth.mentor@gmail.com</body></html>\n"
     ]
    }
   ],
   "source": [
    "print(soup_em)"
   ]
  },
  {
   "cell_type": "code",
   "execution_count": 33,
   "metadata": {},
   "outputs": [],
   "source": [
    "email_re = re.compile(\"\\w+@\\w+\\.\\w+\")"
   ]
  },
  {
   "cell_type": "code",
   "execution_count": 34,
   "metadata": {},
   "outputs": [],
   "source": [
    "email_id = soup_em.find(text = email_re)"
   ]
  },
  {
   "cell_type": "code",
   "execution_count": 35,
   "metadata": {},
   "outputs": [
    {
     "name": "stdout",
     "output_type": "stream",
     "text": [
      "\n",
      "kanth.mentor@gmail.com\n"
     ]
    }
   ],
   "source": [
    "print(email_id)"
   ]
  },
  {
   "cell_type": "code",
   "execution_count": null,
   "metadata": {},
   "outputs": [],
   "source": []
  }
 ],
 "metadata": {
  "kernelspec": {
   "display_name": "Python 3",
   "language": "python",
   "name": "python3"
  },
  "language_info": {
   "codemirror_mode": {
    "name": "ipython",
    "version": 3
   },
   "file_extension": ".py",
   "mimetype": "text/x-python",
   "name": "python",
   "nbconvert_exporter": "python",
   "pygments_lexer": "ipython3",
   "version": "3.7.4"
  }
 },
 "nbformat": 4,
 "nbformat_minor": 2
}
